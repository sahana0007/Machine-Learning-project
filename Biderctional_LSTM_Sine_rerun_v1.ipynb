{
  "cells": [
    {
      "cell_type": "markdown",
      "metadata": {
        "id": "qFnpG2c_ScEY"
      },
      "source": [
        ""
      ]
    },
    {
      "cell_type": "markdown",
      "metadata": {
        "id": "SdZ6vLoZ7Gij"
      },
      "source": [
        "python code"
      ]
    },
    {
      "cell_type": "code",
      "execution_count": 1,
      "metadata": {
        "colab": {
          "base_uri": "https://localhost:8080/"
        },
        "id": "Fql_ZpvDCeUn",
        "outputId": "95d959b6-a1b7-42ff-f864-8ff4f07a31d8"
      },
      "outputs": [
        {
          "output_type": "stream",
          "name": "stdout",
          "text": [
            "Mounted at /content/drive\n"
          ]
        }
      ],
      "source": [
        "from google.colab import drive\n",
        "drive.mount('/content/drive')"
      ]
    },
    {
      "cell_type": "code",
      "execution_count": 2,
      "metadata": {
        "colab": {
          "base_uri": "https://localhost:8080/"
        },
        "id": "jY5ZDXwm2Dlm",
        "outputId": "3804fb5f-b707-4660-8d01-236670c921a0"
      },
      "outputs": [
        {
          "output_type": "stream",
          "name": "stdout",
          "text": [
            "Thu May 19 15:36:53 2022       \n",
            "+-----------------------------------------------------------------------------+\n",
            "| NVIDIA-SMI 460.32.03    Driver Version: 460.32.03    CUDA Version: 11.2     |\n",
            "|-------------------------------+----------------------+----------------------+\n",
            "| GPU  Name        Persistence-M| Bus-Id        Disp.A | Volatile Uncorr. ECC |\n",
            "| Fan  Temp  Perf  Pwr:Usage/Cap|         Memory-Usage | GPU-Util  Compute M. |\n",
            "|                               |                      |               MIG M. |\n",
            "|===============================+======================+======================|\n",
            "|   0  Tesla T4            Off  | 00000000:00:04.0 Off |                    0 |\n",
            "| N/A   43C    P8     9W /  70W |      0MiB / 15109MiB |      0%      Default |\n",
            "|                               |                      |                  N/A |\n",
            "+-------------------------------+----------------------+----------------------+\n",
            "                                                                               \n",
            "+-----------------------------------------------------------------------------+\n",
            "| Processes:                                                                  |\n",
            "|  GPU   GI   CI        PID   Type   Process name                  GPU Memory |\n",
            "|        ID   ID                                                   Usage      |\n",
            "|=============================================================================|\n",
            "|  No running processes found                                                 |\n",
            "+-----------------------------------------------------------------------------+\n"
          ]
        }
      ],
      "source": [
        "gpu_info = !nvidia-smi\n",
        "gpu_info = '\\n'.join(gpu_info)\n",
        "if gpu_info.find('failed') >= 0:\n",
        "  print('Not connected to a GPU')\n",
        "else:\n",
        "  print(gpu_info)"
      ]
    },
    {
      "cell_type": "code",
      "execution_count": 3,
      "metadata": {
        "id": "PivgkJSq4sjJ"
      },
      "outputs": [],
      "source": [
        "# -*- coding: utf-8 -*-\n",
        "\"\"\"\n",
        "Created on Fri Jan 28 15:54:39 2022\n",
        "\"\"\"\n",
        "\n",
        "from sklearn.utils import shuffle\n",
        "import pandas as pd\n",
        "import seaborn as sns\n",
        "from math import sqrt\n",
        "import math\n",
        "import tensorflow as tf\n",
        "from sklearn.metrics import mean_squared_error, mean_absolute_error\n",
        "from sklearn.preprocessing import StandardScaler,MinMaxScaler\n",
        "from sklearn.preprocessing import LabelEncoder\n",
        "from sklearn.model_selection import train_test_split\n",
        "from tensorflow.keras.optimizers import Adam\n",
        "from tensorflow import keras\n",
        "from tensorflow.keras.layers import Bidirectional\n",
        "from tensorflow.keras import Sequential\n",
        "from tensorflow.keras.layers import Conv2D, Flatten, Dense,Input, Dense, Dropout\n",
        "from tensorflow.keras.models import Sequential, Model\n",
        "from tensorflow.keras.layers import LSTM, MaxPooling1D, Conv1D, Flatten, LeakyReLU, Activation, SimpleRNN\n",
        "from tensorflow.keras.callbacks import EarlyStopping, LearningRateScheduler\n",
        "from tensorflow.keras.preprocessing.sequence import TimeseriesGenerator\n",
        "import datetime\n",
        "from pandas import Series\n",
        "from numpy.random import randn\n",
        "import os\n",
        "import random as rn\n",
        "import numpy as np\n",
        "import time\n",
        "import matplotlib.pyplot as plt\n",
        "import random\n",
        "from tensorflow.keras import backend as t\n",
        "from tensorflow.keras.layers import Embedding, Masking\n",
        "from tensorflow.keras.utils import to_categorical"
      ]
    },
    {
      "cell_type": "markdown",
      "metadata": {
        "id": "x-IPsMln7Z4i"
      },
      "source": [
        "**Creating input data for our model**"
      ]
    },
    {
      "cell_type": "code",
      "execution_count": 4,
      "metadata": {
        "colab": {
          "base_uri": "https://localhost:8080/",
          "height": 105
        },
        "id": "4I6v54h8yhdi",
        "outputId": "b25d45c8-0df7-41c1-afd8-bfed31ac3194"
      },
      "outputs": [
        {
          "output_type": "stream",
          "name": "stdout",
          "text": [
            "number of samples is =  [   0    1    2 ... 2045 2046 2047]\n"
          ]
        },
        {
          "output_type": "execute_result",
          "data": {
            "text/plain": [
              "'\\'noise = np.random.normal(0, 1, size = (2048,)) \\nphase = 2* np.pi *np.random.random(1)\\nfor freq in freqList:\\n    for i in range(10):\\n        y = np.sin(2* np.pi * freq *n * Ts + phase) + noise\\n        sine_samples.append(y)\\n\\nplt.figure(figsize = (8, 6))\\nplt.xlabel(\"Time\")\\nplt.ylabel(\"Amplitude\")\\nplt.grid(True)\\nplt.plot(n,y)\\n#plt.savefig(\\'Sinewave.png\\'.format(freq))\\nplt.show()\\n\\ntrain_data = np.array(sine_samples)  \\nnum_samples = len(train_data)\\nprint(num_samples)\\nprint(train_data.shape)'"
            ],
            "application/vnd.google.colaboratory.intrinsic+json": {
              "type": "string"
            }
          },
          "metadata": {},
          "execution_count": 4
        }
      ],
      "source": [
        "#%%%%%%%%%%%%%%%%%%%%%%%%%%%%%%%%%%%%%%%%%%%%%%%%%%%%%%%%%%%%%%%%%%%%%%%%%%%%%\n",
        "sine_samples = []\n",
        "data = []\n",
        "fs = 32000 #sampling rate\n",
        "Ts = 1/fs #time duration\n",
        "#t=0.1 \n",
        "freqList = [250, 500, 750 , 1000, 1500, 2000, 3000, 4000, 6000] \n",
        "#n = np.linspace(0,1,2048) #no of samples\n",
        "n = np.arange(0, 2048, 1) #no of samples\n",
        "print(\"number of samples is = \", n)\n",
        "''''noise = np.random.normal(0, 1, size = (2048,)) \n",
        "phase = 2* np.pi *np.random.random(1)\n",
        "for freq in freqList:\n",
        "    for i in range(10):\n",
        "        y = np.sin(2* np.pi * freq *n * Ts + phase) + noise\n",
        "        sine_samples.append(y)\n",
        "\n",
        "plt.figure(figsize = (8, 6))\n",
        "plt.xlabel(\"Time\")\n",
        "plt.ylabel(\"Amplitude\")\n",
        "plt.grid(True)\n",
        "plt.plot(n,y)\n",
        "#plt.savefig('Sinewave.png'.format(freq))\n",
        "plt.show()\n",
        "\n",
        "train_data = np.array(sine_samples)  \n",
        "num_samples = len(train_data)\n",
        "print(num_samples)\n",
        "print(train_data.shape)'''"
      ]
    },
    {
      "cell_type": "markdown",
      "metadata": {
        "id": "jXD2HfBZg1sk"
      },
      "source": [
        "\n",
        "**New Part of the code to creating the input noisy data, with random phase.**\n",
        "\n"
      ]
    },
    {
      "cell_type": "code",
      "execution_count": 5,
      "metadata": {
        "colab": {
          "base_uri": "https://localhost:8080/"
        },
        "id": "sstkUUdLlMBN",
        "outputId": "431fa788-2811-4676-f7e3-8d6d62a8d599"
      },
      "outputs": [
        {
          "output_type": "stream",
          "name": "stdout",
          "text": [
            "90000\n",
            "(90000, 2048)\n"
          ]
        }
      ],
      "source": [
        "#alpha = 0.2\n",
        "for freq in freqList:\n",
        "   list_phi=[]\n",
        "   for _ in range(10000):\n",
        "       phi = np.random.rand()*(2*np.pi)\n",
        "       list_phi.append(phi)\n",
        "   for phases in range(len(list_phi)):\n",
        "       alpha = np.random.uniform(0.1,5)\n",
        "       #print (alpha)\n",
        "       wave = np.sin(2* np.pi * freq * n / fs + phases)\n",
        "       noise = alpha * np.random.normal(0, 1, size = (2048,))\n",
        "       signal = wave + noise\n",
        "       sine_samples.append(signal)\n",
        "\n",
        "train_data = np.array(sine_samples)  \n",
        "num_samples = len(train_data)\n",
        "print(num_samples)\n",
        "print(train_data.shape)"
      ]
    },
    {
      "cell_type": "code",
      "execution_count": 6,
      "metadata": {
        "colab": {
          "base_uri": "https://localhost:8080/"
        },
        "id": "NTalcUoGRrzG",
        "outputId": "006ef409-c474-4e1d-aa44-edd7bfbef90e"
      },
      "outputs": [
        {
          "output_type": "stream",
          "name": "stdout",
          "text": [
            "2.8.0\n",
            "2.8.0\n"
          ]
        }
      ],
      "source": [
        "from tensorflow import keras\n",
        "print(keras.__version__)\n",
        "import tensorflow as tf\n",
        "print(tf.__version__)"
      ]
    },
    {
      "cell_type": "code",
      "execution_count": 7,
      "metadata": {
        "colab": {
          "base_uri": "https://localhost:8080/",
          "height": 388
        },
        "id": "mrzwguwmXc1O",
        "outputId": "7f3ba7a4-9db2-4de9-dea2-f6b8609510b4"
      },
      "outputs": [
        {
          "output_type": "display_data",
          "data": {
            "text/plain": [
              "<Figure size 576x432 with 1 Axes>"
            ],
            "image/png": "[encoded data removed]"
          },
          "metadata": {
            "needs_background": "light"
          }
        }
      ],
      "source": [
        "plt.figure(figsize = (8, 6))\n",
        "plt.xlabel(\"Time\")\n",
        "plt.ylabel(\"Amplitude\")\n",
        "plt.grid(True)\n",
        "plt.plot(train_data[100])\n",
        "#plt.savefig('Sinewave.png'.format(freq))\n",
        "plt.show()"
      ]
    },
    {
      "cell_type": "markdown",
      "metadata": {
        "id": "5ocTMa_z7lZY"
      },
      "source": [
        "**Labeling the input data**\n",
        "\n",
        "*   List Label\n",
        "*   List Categorical\n",
        "\n"
      ]
    },
    {
      "cell_type": "code",
      "execution_count": 8,
      "metadata": {
        "id": "lJzGvwZwymGy"
      },
      "outputs": [],
      "source": [
        "#%%%%%%%%%%%%%%%%%%%%%%%%%%%%%%%%%%%%%%%%%%%%%%%%%%%%%%%%%%%%%%%%%%%%%%%%%%%%%\n",
        "label1=np.ones((num_samples),dtype = int)\n",
        "label1[0:9999]= 0\n",
        "label1[10000:19999] = 1\n",
        "label1[20000:29999] = 2\n",
        "label1[30000:39999] = 3\n",
        "label1[40000:49999] = 4\n",
        "label1[50000:59999] = 5\n",
        "label1[60000:69999] = 6\n",
        "label1[70000:79999] = 7\n",
        "label1[80000:89999] = 8\n",
        "\n",
        "num_classes = 9\n",
        "Y=to_categorical(label1, num_classes)\n"
      ]
    },
    {
      "cell_type": "markdown",
      "metadata": {
        "id": "IB9WU3uO72pz"
      },
      "source": [
        "Normalize the input data as pre-processing\n",
        "\n",
        "\n",
        "*   Normalization by standard deviation\n",
        "*   Split our data to Train/Test\n",
        "\n"
      ]
    },
    {
      "cell_type": "code",
      "execution_count": 9,
      "metadata": {
        "id": "BtXz45S4yrBy"
      },
      "outputs": [],
      "source": [
        "#%%%%%%%%%%%%%%%%%%%%%%%%%%%%%%%%%%%%%%%%%%%%%%%%%%%%%%%%%%%%%%%%%%%%%%%%%%%%%\n",
        "def Normalize(data):\n",
        "    mean_data=np.mean(data)\n",
        "    std_data=np.std(data)\n",
        "    norm_data=(data-mean_data)/std_data\n",
        "    return norm_data\n",
        "\n",
        "#%%%%%%%%%%%%%%%%%%%%%%%%%%%%%%%%%%%%%%%%%%%%%%%%%%%%%%%%%%%%%%%%%%%%%%%%%%%%%\n",
        "x_train,x_test,y_train,y_test=train_test_split(train_data, Y, test_size=0.2,random_state=2)\n",
        "x_train=Normalize(x_train)\n",
        "x_test=Normalize(x_test)"
      ]
    },
    {
      "cell_type": "markdown",
      "source": [
        "Defining some parameters settings as well as creating the LSTM model\n",
        "\n",
        "LSTM Model\n"
      ],
      "metadata": {
        "id": "7z6DvTs-8NPk"
      }
    },
    {
      "cell_type": "code",
      "source": [
        "#%%%%%%%%%%%%%%%%%%%%%%%%%%%%%%%%%%%%%%%%%%%%%%%%%%%%%%%%%%%%%%%%%%%%%%%%%%%%%\n",
        "n_units=[64, 128, 256]\n",
        "n_epochs=50\n",
        "batch_size = 100\n",
        "data_shape = (2048, 1)\n",
        "filters = [16, 32, 64, 128, 256]\n",
        "model = Sequential()\n",
        "#model.add(LSTM(n_units, input_shape = data_shape))\n",
        "#model.add(Masking( mask_value=0, batch_input_shape=(batch_size, data_shape[0], data_shape[1])))\n",
        "model.add(Conv1D(filters[0], kernel_size=3, padding='same', strides = 1,\n",
        "                 batch_input_shape=(batch_size, data_shape[0], data_shape[1])))\n",
        "model.add(Activation('relu'))\n",
        "model.add(Dropout(0.5))\n",
        "\n",
        "model.add(Conv1D(filters[1], kernel_size=3, strides = 1, padding='same'))\n",
        "model.add(Activation('relu'))\n",
        "model.add(Dropout(0.5))\n",
        "\n",
        "model.add(Conv1D(filters[2], kernel_size=3, strides = 1, padding='same'))\n",
        "model.add(Activation('relu'))\n",
        "model.add(Dropout(0.5))\n",
        "\n",
        "model.add(Conv1D(filters[3], kernel_size=3, strides = 1, padding='same'))\n",
        "model.add(Activation('relu'))\n",
        "model.add(Dropout(0.5))\n",
        "\n",
        "model.add(Conv1D(filters[4], kernel_size=3, strides = 1, padding='same'))\n",
        "model.add(Activation('relu'))\n",
        "model.add(Dropout(0.5))\n",
        "\n",
        "model.add(LSTM(n_units[0], return_sequences=True))\n",
        "model.add(Activation('relu'))\n",
        "\n",
        "model.add(LSTM(n_units[1], return_sequences=True))\n",
        "model.add(Activation('relu'))\n",
        "\n",
        "model.add(LSTM(n_units[2]))\n",
        "model.add(Activation('relu'))\n",
        "model.add(Dropout(0.2))\n",
        "\n",
        "model.add(Dense(num_classes, activation='softmax'))\n",
        "model.compile(loss='categorical_crossentropy', optimizer='rmsprop', metrics=['accuracy'])\n",
        "history = model.fit(x_train, y_train, validation_data=(x_test,y_test),  batch_size= batch_size, epochs=n_epochs, shuffle=False)"
      ],
      "metadata": {
        "colab": {
          "base_uri": "https://localhost:8080/"
        },
        "id": "vrcd2JyJ8LNO",
        "outputId": "19b95ee3-723b-4299-9688-baa63561099e"
      },
      "execution_count": 10,
      "outputs": [
        {
          "output_type": "stream",
          "name": "stdout",
          "text": [
            "Epoch 1/50\n",
            "720/720 [==============================] - 431s 577ms/step - loss: 2.1980 - accuracy: 0.1121 - val_loss: 2.1978 - val_accuracy: 0.1094\n",
            "Epoch 2/50\n",
            "720/720 [==============================] - 427s 593ms/step - loss: 2.2000 - accuracy: 0.1108 - val_loss: 2.1977 - val_accuracy: 0.1094\n",
            "Epoch 3/50\n",
            "720/720 [==============================] - 430s 597ms/step - loss: 2.1968 - accuracy: 0.1137 - val_loss: 2.1999 - val_accuracy: 0.1109\n",
            "Epoch 4/50\n",
            "720/720 [==============================] - 428s 595ms/step - loss: 2.1587 - accuracy: 0.1379 - val_loss: 2.1026 - val_accuracy: 0.1407\n",
            "Epoch 5/50\n",
            "720/720 [==============================] - 432s 600ms/step - loss: 2.0232 - accuracy: 0.1780 - val_loss: 1.8416 - val_accuracy: 0.2066\n",
            "Epoch 6/50\n",
            "720/720 [==============================] - 432s 601ms/step - loss: 1.8243 - accuracy: 0.2597 - val_loss: 1.5488 - val_accuracy: 0.3707\n",
            "Epoch 7/50\n",
            "720/720 [==============================] - 432s 601ms/step - loss: 1.4389 - accuracy: 0.4425 - val_loss: 1.1077 - val_accuracy: 0.5802\n",
            "Epoch 8/50\n",
            "720/720 [==============================] - 432s 600ms/step - loss: 1.1236 - accuracy: 0.5832 - val_loss: 0.8327 - val_accuracy: 0.6836\n",
            "Epoch 9/50\n",
            "720/720 [==============================] - 432s 601ms/step - loss: 0.8705 - accuracy: 0.6898 - val_loss: 0.6238 - val_accuracy: 0.7761\n",
            "Epoch 10/50\n",
            "720/720 [==============================] - 432s 601ms/step - loss: 0.6856 - accuracy: 0.7566 - val_loss: 0.4885 - val_accuracy: 0.8248\n",
            "Epoch 11/50\n",
            "720/720 [==============================] - 432s 600ms/step - loss: 0.5804 - accuracy: 0.7986 - val_loss: 0.5014 - val_accuracy: 0.8212\n",
            "Epoch 12/50\n",
            "720/720 [==============================] - 432s 600ms/step - loss: 0.4770 - accuracy: 0.8355 - val_loss: 0.3591 - val_accuracy: 0.8778\n",
            "Epoch 13/50\n",
            "720/720 [==============================] - 432s 600ms/step - loss: 0.4108 - accuracy: 0.8600 - val_loss: 1.0032 - val_accuracy: 0.7508\n",
            "Epoch 14/50\n",
            "720/720 [==============================] - 432s 600ms/step - loss: 0.3715 - accuracy: 0.8753 - val_loss: 0.4800 - val_accuracy: 0.8579\n",
            "Epoch 15/50\n",
            "720/720 [==============================] - 432s 601ms/step - loss: 0.3296 - accuracy: 0.8894 - val_loss: 0.2947 - val_accuracy: 0.8982\n",
            "Epoch 16/50\n",
            "720/720 [==============================] - 432s 600ms/step - loss: 0.3027 - accuracy: 0.8990 - val_loss: 0.5256 - val_accuracy: 0.8402\n",
            "Epoch 17/50\n",
            "720/720 [==============================] - 432s 600ms/step - loss: 0.2848 - accuracy: 0.9045 - val_loss: 0.3578 - val_accuracy: 0.8906\n",
            "Epoch 18/50\n",
            "720/720 [==============================] - 433s 601ms/step - loss: 0.2702 - accuracy: 0.9108 - val_loss: 0.8851 - val_accuracy: 0.7754\n",
            "Epoch 19/50\n",
            "720/720 [==============================] - 432s 601ms/step - loss: 0.2571 - accuracy: 0.9160 - val_loss: 0.5678 - val_accuracy: 0.8448\n",
            "Epoch 20/50\n",
            "720/720 [==============================] - 432s 600ms/step - loss: 0.2405 - accuracy: 0.9193 - val_loss: 0.8370 - val_accuracy: 0.8010\n",
            "Epoch 21/50\n",
            "720/720 [==============================] - 432s 601ms/step - loss: 0.2325 - accuracy: 0.9234 - val_loss: 0.6336 - val_accuracy: 0.8526\n",
            "Epoch 22/50\n",
            "720/720 [==============================] - 432s 600ms/step - loss: 0.2271 - accuracy: 0.9255 - val_loss: 0.8842 - val_accuracy: 0.8203\n",
            "Epoch 23/50\n",
            "720/720 [==============================] - 432s 600ms/step - loss: 0.2172 - accuracy: 0.9273 - val_loss: 0.5822 - val_accuracy: 0.8753\n",
            "Epoch 24/50\n",
            "720/720 [==============================] - 432s 600ms/step - loss: 0.3180 - accuracy: 0.9097 - val_loss: 0.5441 - val_accuracy: 0.8673\n",
            "Epoch 25/50\n",
            "720/720 [==============================] - 432s 600ms/step - loss: 0.4375 - accuracy: 0.8975 - val_loss: 0.8567 - val_accuracy: 0.8002\n",
            "Epoch 26/50\n",
            "720/720 [==============================] - 432s 600ms/step - loss: 0.2150 - accuracy: 0.9295 - val_loss: 0.6180 - val_accuracy: 0.8571\n",
            "Epoch 27/50\n",
            "720/720 [==============================] - 432s 601ms/step - loss: 0.2190 - accuracy: 0.9293 - val_loss: 0.5127 - val_accuracy: 0.8647\n",
            "Epoch 28/50\n",
            "720/720 [==============================] - 432s 600ms/step - loss: 0.1953 - accuracy: 0.9351 - val_loss: 0.5353 - val_accuracy: 0.8858\n",
            "Epoch 29/50\n",
            "720/720 [==============================] - 432s 600ms/step - loss: 0.1961 - accuracy: 0.9373 - val_loss: 1.0259 - val_accuracy: 0.8257\n",
            "Epoch 30/50\n",
            "720/720 [==============================] - 432s 600ms/step - loss: 0.1838 - accuracy: 0.9409 - val_loss: 0.5463 - val_accuracy: 0.8778\n",
            "Epoch 31/50\n",
            "720/720 [==============================] - 432s 600ms/step - loss: 0.3929 - accuracy: 0.8934 - val_loss: 0.3835 - val_accuracy: 0.8819\n",
            "Epoch 32/50\n",
            "720/720 [==============================] - 432s 601ms/step - loss: 0.2299 - accuracy: 0.9295 - val_loss: 0.2644 - val_accuracy: 0.9101\n",
            "Epoch 33/50\n",
            "720/720 [==============================] - 432s 600ms/step - loss: 0.2593 - accuracy: 0.9241 - val_loss: 0.4004 - val_accuracy: 0.8888\n",
            "Epoch 34/50\n",
            "720/720 [==============================] - 432s 600ms/step - loss: 0.2004 - accuracy: 0.9358 - val_loss: 0.6183 - val_accuracy: 0.8648\n",
            "Epoch 35/50\n",
            "720/720 [==============================] - 432s 600ms/step - loss: 0.1922 - accuracy: 0.9371 - val_loss: 1.4224 - val_accuracy: 0.7463\n",
            "Epoch 36/50\n",
            "720/720 [==============================] - 432s 600ms/step - loss: 0.1819 - accuracy: 0.9413 - val_loss: 1.4314 - val_accuracy: 0.8059\n",
            "Epoch 37/50\n",
            "720/720 [==============================] - 432s 600ms/step - loss: 0.1683 - accuracy: 0.9454 - val_loss: 0.6423 - val_accuracy: 0.8494\n",
            "Epoch 38/50\n",
            "720/720 [==============================] - 432s 600ms/step - loss: 0.2111 - accuracy: 0.9370 - val_loss: 0.9306 - val_accuracy: 0.8037\n",
            "Epoch 39/50\n",
            "720/720 [==============================] - 432s 600ms/step - loss: 0.2148 - accuracy: 0.9328 - val_loss: 1.0278 - val_accuracy: 0.7599\n",
            "Epoch 40/50\n",
            "720/720 [==============================] - 432s 600ms/step - loss: 0.4033 - accuracy: 0.8969 - val_loss: 1.5963 - val_accuracy: 0.7185\n",
            "Epoch 41/50\n",
            "720/720 [==============================] - 432s 600ms/step - loss: 0.1978 - accuracy: 0.9365 - val_loss: 1.5081 - val_accuracy: 0.7282\n",
            "Epoch 42/50\n",
            "720/720 [==============================] - 432s 600ms/step - loss: 0.1840 - accuracy: 0.9403 - val_loss: 0.5023 - val_accuracy: 0.8588\n",
            "Epoch 43/50\n",
            "720/720 [==============================] - 432s 600ms/step - loss: 0.2529 - accuracy: 0.9293 - val_loss: 0.9934 - val_accuracy: 0.8285\n",
            "Epoch 44/50\n",
            "720/720 [==============================] - 432s 600ms/step - loss: 0.1940 - accuracy: 0.9364 - val_loss: 0.7433 - val_accuracy: 0.8569\n",
            "Epoch 45/50\n",
            "720/720 [==============================] - 432s 600ms/step - loss: 0.1941 - accuracy: 0.9358 - val_loss: 0.9205 - val_accuracy: 0.8328\n",
            "Epoch 46/50\n",
            "720/720 [==============================] - 432s 600ms/step - loss: 0.2077 - accuracy: 0.9366 - val_loss: 2.2156 - val_accuracy: 0.7672\n",
            "Epoch 47/50\n",
            "720/720 [==============================] - 432s 600ms/step - loss: 1.0718 - accuracy: 0.7984 - val_loss: 1.2946 - val_accuracy: 0.8158\n",
            "Epoch 48/50\n",
            "720/720 [==============================] - 432s 600ms/step - loss: 0.1831 - accuracy: 0.9410 - val_loss: 0.8832 - val_accuracy: 0.8034\n",
            "Epoch 49/50\n",
            "720/720 [==============================] - 432s 600ms/step - loss: 0.1704 - accuracy: 0.9454 - val_loss: 1.1945 - val_accuracy: 0.8046\n",
            "Epoch 50/50\n",
            "720/720 [==============================] - 432s 600ms/step - loss: 0.1824 - accuracy: 0.9437 - val_loss: 0.9631 - val_accuracy: 0.8502\n"
          ]
        }
      ]
    },
    {
      "cell_type": "code",
      "source": [
        "# list all data in history\n",
        "print(history.history.keys())\n",
        "# summarize history for accuracy\n",
        "plt.plot(history.history['accuracy'])\n",
        "plt.plot(history.history['val_accuracy'])\n",
        "plt.title('model accuracy')\n",
        "plt.ylabel('accuracy')\n",
        "plt.xlabel('epoch')\n",
        "plt.legend(['train', 'test'], loc='upper left')\n",
        "plt.show()"
      ],
      "metadata": {
        "colab": {
          "base_uri": "https://localhost:8080/",
          "height": 312
        },
        "id": "pWQtlb158Wzq",
        "outputId": "3d947acd-f182-46b0-825d-fca12b0e6d30"
      },
      "execution_count": 11,
      "outputs": [
        {
          "output_type": "stream",
          "name": "stdout",
          "text": [
            "dict_keys(['loss', 'accuracy', 'val_loss', 'val_accuracy'])\n"
          ]
        },
        {
          "output_type": "display_data",
          "data": {
            "text/plain": [
              "<Figure size 432x288 with 1 Axes>"
            ],
            "image/png": "[encoded data removed]"
          },
          "metadata": {
            "needs_background": "light"
          }
        }
      ]
    },
    {
      "cell_type": "code",
      "source": [
        "# summarize history for loss\n",
        "plt.plot(history.history['loss'])\n",
        "plt.plot(history.history['val_loss'])\n",
        "plt.title('model loss')\n",
        "plt.ylabel('loss')\n",
        "plt.xlabel('epoch')\n",
        "plt.legend(['train', 'test'], loc='upper left')\n",
        "plt.show()"
      ],
      "metadata": {
        "colab": {
          "base_uri": "https://localhost:8080/",
          "height": 295
        },
        "id": "bD6jbbSa8Xg9",
        "outputId": "b7117979-4edd-4dbe-f961-0c4b33a3edcb"
      },
      "execution_count": 12,
      "outputs": [
        {
          "output_type": "display_data",
          "data": {
            "text/plain": [
              "<Figure size 432x288 with 1 Axes>"
            ],
            "image/png": "[encoded data removed]"
          },
          "metadata": {
            "needs_background": "light"
          }
        }
      ]
    },
    {
      "cell_type": "code",
      "source": [
        "import itertools\n",
        "from sklearn.metrics import classification_report,confusion_matrix\n",
        "\n",
        "def plot_confusion_matrix(cm,classes,normalize=False,title='Confusion matrix',cmap=plt.cm.Blues):\n",
        "    plt.imshow(cm,interpolation='nearest',cmap=cmap)\n",
        "    plt.title(title)\n",
        "    plt.colorbar()\n",
        "    tick_marks = np.arange(len(classes))\n",
        "    plt.xticks(tick_marks, classes,rotation=90)\n",
        "    plt.yticks(tick_marks, classes)\n",
        "    if normalize:\n",
        "        cm=cm.astype('float') / cm.sum(axis=1)[:, np.newaxis]\n",
        "        print(\"Normalized confusion matrix\")\n",
        "    else:\n",
        "        print(\"Confusion matrix without normalization\")\n",
        "    print(cm)\n",
        "    thresh=cm.max() / 2.\n",
        "    for i,j in itertools.product(range(cm.shape[0]), range(cm.shape[1])):\n",
        "        plt.text(j,i,cm[i,j],horizontalalignment=\"center\",\n",
        "        color=\"white\" if cm[i,j] > thresh else \"black\")\n",
        "    plt.tight_layout()\n",
        "    plt.ylabel('true label')\n",
        "    plt.xlabel('Predicted label')\n",
        "\n",
        "\n",
        "Y_pred =model.predict(x_test,batch_size=batch_size,verbose=0)\n",
        "print(Y_pred)\n",
        "y_pred = np.argmax(Y_pred, axis=1)\n",
        "#y_pred = model.predict_classes(x_test, batch_size=batch_size, verbose=0)\n",
        "target_names = ['(250)','(500)','(750)', '(1000)','(1500)','(2000)', '(3000)', '(4000)', '(6000)']\n",
        "print(classification_report(np.argmax(y_test, axis=1), y_pred, target_names=target_names))\n",
        "cnf_matrix=(confusion_matrix(np.argmax(y_test,axis=1), y_pred))\n",
        "plot_confusion_matrix(cnf_matrix, classes=target_names, title='confusion matrix')"
      ],
      "metadata": {
        "colab": {
          "base_uri": "https://localhost:8080/",
          "height": 988
        },
        "id": "W88pmFW18aNm",
        "outputId": "981fdd8a-aa22-449b-e29b-a85b48c47d1b"
      },
      "execution_count": 13,
      "outputs": [
        {
          "output_type": "stream",
          "name": "stdout",
          "text": [
            "[[6.4702527e-12 1.0242303e-13 1.2712647e-08 ... 1.0094082e-08\n",
            "  4.6934350e-08 2.3388975e-05]\n",
            " [4.9641670e-07 5.6926721e-09 4.2770094e-05 ... 1.3912781e-04\n",
            "  1.3060991e-02 1.3306744e-01]\n",
            " [2.3238982e-16 1.3486424e-16 3.5515724e-09 ... 6.8453021e-12\n",
            "  1.9213961e-10 1.6464384e-09]\n",
            " ...\n",
            " [3.6645826e-21 1.1682512e-19 1.9414846e-21 ... 8.4719978e-19\n",
            "  7.7796304e-17 6.7120794e-13]\n",
            " [9.9877542e-01 4.7591658e-07 6.3892229e-09 ... 5.1656212e-07\n",
            "  2.7457576e-05 1.1958354e-03]\n",
            " [1.1592419e-11 9.9999809e-01 9.1401674e-08 ... 3.7525708e-11\n",
            "  3.9005894e-08 1.7334332e-06]]\n",
            "              precision    recall  f1-score   support\n",
            "\n",
            "       (250)       1.00      0.74      0.85      2001\n",
            "       (500)       1.00      0.72      0.84      2014\n",
            "       (750)       1.00      0.82      0.90      2078\n",
            "      (1000)       1.00      0.90      0.95      2057\n",
            "      (1500)       1.00      0.76      0.86      1970\n",
            "      (2000)       1.00      0.89      0.94      1971\n",
            "      (3000)       1.00      0.89      0.94      1976\n",
            "      (4000)       0.99      0.94      0.96      1982\n",
            "      (6000)       0.42      1.00      0.59      1951\n",
            "\n",
            "    accuracy                           0.85     18000\n",
            "   macro avg       0.93      0.85      0.87     18000\n",
            "weighted avg       0.94      0.85      0.87     18000\n",
            "\n",
            "Confusion matrix without normalization\n",
            "[[1487    0    0    0    0    0    0    3  511]\n",
            " [   0 1459    0    1    1    0    0    2  551]\n",
            " [   0    0 1702    0    0    0    0    3  373]\n",
            " [   0    0    0 1858    0    0    0    3  196]\n",
            " [   0    0    0    0 1492    0    0    4  474]\n",
            " [   0    0    0    0    0 1745    0    2  224]\n",
            " [   0    0    0    0    1    0 1758    2  215]\n",
            " [   0    0    0    0    0    0    0 1859  123]\n",
            " [   0    0    0    0    0    0    0    8 1943]]\n"
          ]
        },
        {
          "output_type": "display_data",
          "data": {
            "text/plain": [
              "<Figure size 432x288 with 2 Axes>"
            ],
            "image/png": "[encoded data removed]"
          },
          "metadata": {
            "needs_background": "light"
          }
        }
      ]
    },
    {
      "cell_type": "markdown",
      "metadata": {
        "id": "IYzx55Le8J-2"
      },
      "source": [
        "**Defining some parameters settings as well as creating the Bidirectional model**\n",
        "\n",
        "*   Bidirectional *model*\n",
        "\n"
      ]
    },
    {
      "cell_type": "code",
      "execution_count": 10,
      "metadata": {
        "colab": {
          "base_uri": "https://localhost:8080/",
          "height": 415
        },
        "id": "-2iMlSxpyu4b",
        "outputId": "7554cdad-88d3-4abd-9491-cfacf5d7d795"
      },
      "outputs": [
        {
          "output_type": "stream",
          "name": "stdout",
          "text": [
            "Epoch 1/80\n",
            "720/720 [==============================] - 889s 1s/step - loss: 2.1983 - accuracy: 0.1103 - val_loss: 2.1977 - val_accuracy: 0.1094\n",
            "Epoch 2/80\n",
            "390/720 [===============>..............] - ETA: 6:11 - loss: 2.1983 - accuracy: 0.1118"
          ]
        },
        {
          "output_type": "error",
          "ename": "KeyboardInterrupt",
          "evalue": "ignored",
          "traceback": [
            "\u001b[0;31m---------------------------------------------------------------------------\u001b[0m",
            "\u001b[0;31mKeyboardInterrupt\u001b[0m                         Traceback (most recent call last)",
            "\u001b[0;32m<ipython-input-10-8d81d0ee18a3>\u001b[0m in \u001b[0;36m<module>\u001b[0;34m()\u001b[0m\n\u001b[1;32m     56\u001b[0m \u001b[0mmodel\u001b[0m\u001b[0;34m.\u001b[0m\u001b[0madd\u001b[0m\u001b[0;34m(\u001b[0m\u001b[0mDense\u001b[0m\u001b[0;34m(\u001b[0m\u001b[0mnum_classes\u001b[0m\u001b[0;34m,\u001b[0m \u001b[0mactivation\u001b[0m\u001b[0;34m=\u001b[0m\u001b[0;34m'softmax'\u001b[0m\u001b[0;34m)\u001b[0m\u001b[0;34m)\u001b[0m\u001b[0;34m\u001b[0m\u001b[0;34m\u001b[0m\u001b[0m\n\u001b[1;32m     57\u001b[0m \u001b[0mmodel\u001b[0m\u001b[0;34m.\u001b[0m\u001b[0mcompile\u001b[0m\u001b[0;34m(\u001b[0m\u001b[0mloss\u001b[0m\u001b[0;34m=\u001b[0m\u001b[0;34m'categorical_crossentropy'\u001b[0m\u001b[0;34m,\u001b[0m \u001b[0moptimizer\u001b[0m\u001b[0;34m=\u001b[0m\u001b[0;34m'rmsprop'\u001b[0m\u001b[0;34m,\u001b[0m \u001b[0mmetrics\u001b[0m\u001b[0;34m=\u001b[0m\u001b[0;34m[\u001b[0m\u001b[0;34m'accuracy'\u001b[0m\u001b[0;34m]\u001b[0m\u001b[0;34m)\u001b[0m\u001b[0;34m\u001b[0m\u001b[0;34m\u001b[0m\u001b[0m\n\u001b[0;32m---> 58\u001b[0;31m \u001b[0mhistory\u001b[0m \u001b[0;34m=\u001b[0m \u001b[0mmodel\u001b[0m\u001b[0;34m.\u001b[0m\u001b[0mfit\u001b[0m\u001b[0;34m(\u001b[0m\u001b[0mx_train\u001b[0m\u001b[0;34m,\u001b[0m \u001b[0my_train\u001b[0m\u001b[0;34m,\u001b[0m \u001b[0mvalidation_data\u001b[0m\u001b[0;34m=\u001b[0m\u001b[0;34m(\u001b[0m\u001b[0mx_test\u001b[0m\u001b[0;34m,\u001b[0m\u001b[0my_test\u001b[0m\u001b[0;34m)\u001b[0m\u001b[0;34m,\u001b[0m  \u001b[0mbatch_size\u001b[0m\u001b[0;34m=\u001b[0m \u001b[0mbatch_size\u001b[0m\u001b[0;34m,\u001b[0m \u001b[0mepochs\u001b[0m\u001b[0;34m=\u001b[0m\u001b[0mn_epochs\u001b[0m\u001b[0;34m,\u001b[0m \u001b[0mshuffle\u001b[0m\u001b[0;34m=\u001b[0m\u001b[0;32mFalse\u001b[0m\u001b[0;34m)\u001b[0m\u001b[0;34m\u001b[0m\u001b[0;34m\u001b[0m\u001b[0m\n\u001b[0m",
            "\u001b[0;32m/usr/local/lib/python3.7/dist-packages/keras/utils/traceback_utils.py\u001b[0m in \u001b[0;36merror_handler\u001b[0;34m(*args, **kwargs)\u001b[0m\n\u001b[1;32m     62\u001b[0m     \u001b[0mfiltered_tb\u001b[0m \u001b[0;34m=\u001b[0m \u001b[0;32mNone\u001b[0m\u001b[0;34m\u001b[0m\u001b[0;34m\u001b[0m\u001b[0m\n\u001b[1;32m     63\u001b[0m     \u001b[0;32mtry\u001b[0m\u001b[0;34m:\u001b[0m\u001b[0;34m\u001b[0m\u001b[0;34m\u001b[0m\u001b[0m\n\u001b[0;32m---> 64\u001b[0;31m       \u001b[0;32mreturn\u001b[0m \u001b[0mfn\u001b[0m\u001b[0;34m(\u001b[0m\u001b[0;34m*\u001b[0m\u001b[0margs\u001b[0m\u001b[0;34m,\u001b[0m \u001b[0;34m**\u001b[0m\u001b[0mkwargs\u001b[0m\u001b[0;34m)\u001b[0m\u001b[0;34m\u001b[0m\u001b[0;34m\u001b[0m\u001b[0m\n\u001b[0m\u001b[1;32m     65\u001b[0m     \u001b[0;32mexcept\u001b[0m \u001b[0mException\u001b[0m \u001b[0;32mas\u001b[0m \u001b[0me\u001b[0m\u001b[0;34m:\u001b[0m  \u001b[0;31m# pylint: disable=broad-except\u001b[0m\u001b[0;34m\u001b[0m\u001b[0;34m\u001b[0m\u001b[0m\n\u001b[1;32m     66\u001b[0m       \u001b[0mfiltered_tb\u001b[0m \u001b[0;34m=\u001b[0m \u001b[0m_process_traceback_frames\u001b[0m\u001b[0;34m(\u001b[0m\u001b[0me\u001b[0m\u001b[0;34m.\u001b[0m\u001b[0m__traceback__\u001b[0m\u001b[0;34m)\u001b[0m\u001b[0;34m\u001b[0m\u001b[0;34m\u001b[0m\u001b[0m\n",
            "\u001b[0;32m/usr/local/lib/python3.7/dist-packages/keras/engine/training.py\u001b[0m in \u001b[0;36mfit\u001b[0;34m(self, x, y, batch_size, epochs, verbose, callbacks, validation_split, validation_data, shuffle, class_weight, sample_weight, initial_epoch, steps_per_epoch, validation_steps, validation_batch_size, validation_freq, max_queue_size, workers, use_multiprocessing)\u001b[0m\n\u001b[1;32m   1382\u001b[0m                 _r=1):\n\u001b[1;32m   1383\u001b[0m               \u001b[0mcallbacks\u001b[0m\u001b[0;34m.\u001b[0m\u001b[0mon_train_batch_begin\u001b[0m\u001b[0;34m(\u001b[0m\u001b[0mstep\u001b[0m\u001b[0;34m)\u001b[0m\u001b[0;34m\u001b[0m\u001b[0;34m\u001b[0m\u001b[0m\n\u001b[0;32m-> 1384\u001b[0;31m               \u001b[0mtmp_logs\u001b[0m \u001b[0;34m=\u001b[0m \u001b[0mself\u001b[0m\u001b[0;34m.\u001b[0m\u001b[0mtrain_function\u001b[0m\u001b[0;34m(\u001b[0m\u001b[0miterator\u001b[0m\u001b[0;34m)\u001b[0m\u001b[0;34m\u001b[0m\u001b[0;34m\u001b[0m\u001b[0m\n\u001b[0m\u001b[1;32m   1385\u001b[0m               \u001b[0;32mif\u001b[0m \u001b[0mdata_handler\u001b[0m\u001b[0;34m.\u001b[0m\u001b[0mshould_sync\u001b[0m\u001b[0;34m:\u001b[0m\u001b[0;34m\u001b[0m\u001b[0;34m\u001b[0m\u001b[0m\n\u001b[1;32m   1386\u001b[0m                 \u001b[0mcontext\u001b[0m\u001b[0;34m.\u001b[0m\u001b[0masync_wait\u001b[0m\u001b[0;34m(\u001b[0m\u001b[0;34m)\u001b[0m\u001b[0;34m\u001b[0m\u001b[0;34m\u001b[0m\u001b[0m\n",
            "\u001b[0;32m/usr/local/lib/python3.7/dist-packages/tensorflow/python/util/traceback_utils.py\u001b[0m in \u001b[0;36merror_handler\u001b[0;34m(*args, **kwargs)\u001b[0m\n\u001b[1;32m    148\u001b[0m     \u001b[0mfiltered_tb\u001b[0m \u001b[0;34m=\u001b[0m \u001b[0;32mNone\u001b[0m\u001b[0;34m\u001b[0m\u001b[0;34m\u001b[0m\u001b[0m\n\u001b[1;32m    149\u001b[0m     \u001b[0;32mtry\u001b[0m\u001b[0;34m:\u001b[0m\u001b[0;34m\u001b[0m\u001b[0;34m\u001b[0m\u001b[0m\n\u001b[0;32m--> 150\u001b[0;31m       \u001b[0;32mreturn\u001b[0m \u001b[0mfn\u001b[0m\u001b[0;34m(\u001b[0m\u001b[0;34m*\u001b[0m\u001b[0margs\u001b[0m\u001b[0;34m,\u001b[0m \u001b[0;34m**\u001b[0m\u001b[0mkwargs\u001b[0m\u001b[0;34m)\u001b[0m\u001b[0;34m\u001b[0m\u001b[0;34m\u001b[0m\u001b[0m\n\u001b[0m\u001b[1;32m    151\u001b[0m     \u001b[0;32mexcept\u001b[0m \u001b[0mException\u001b[0m \u001b[0;32mas\u001b[0m \u001b[0me\u001b[0m\u001b[0;34m:\u001b[0m\u001b[0;34m\u001b[0m\u001b[0;34m\u001b[0m\u001b[0m\n\u001b[1;32m    152\u001b[0m       \u001b[0mfiltered_tb\u001b[0m \u001b[0;34m=\u001b[0m \u001b[0m_process_traceback_frames\u001b[0m\u001b[0;34m(\u001b[0m\u001b[0me\u001b[0m\u001b[0;34m.\u001b[0m\u001b[0m__traceback__\u001b[0m\u001b[0;34m)\u001b[0m\u001b[0;34m\u001b[0m\u001b[0;34m\u001b[0m\u001b[0m\n",
            "\u001b[0;32m/usr/local/lib/python3.7/dist-packages/tensorflow/python/eager/def_function.py\u001b[0m in \u001b[0;36m__call__\u001b[0;34m(self, *args, **kwds)\u001b[0m\n\u001b[1;32m    913\u001b[0m \u001b[0;34m\u001b[0m\u001b[0m\n\u001b[1;32m    914\u001b[0m       \u001b[0;32mwith\u001b[0m \u001b[0mOptionalXlaContext\u001b[0m\u001b[0;34m(\u001b[0m\u001b[0mself\u001b[0m\u001b[0;34m.\u001b[0m\u001b[0m_jit_compile\u001b[0m\u001b[0;34m)\u001b[0m\u001b[0;34m:\u001b[0m\u001b[0;34m\u001b[0m\u001b[0;34m\u001b[0m\u001b[0m\n\u001b[0;32m--> 915\u001b[0;31m         \u001b[0mresult\u001b[0m \u001b[0;34m=\u001b[0m \u001b[0mself\u001b[0m\u001b[0;34m.\u001b[0m\u001b[0m_call\u001b[0m\u001b[0;34m(\u001b[0m\u001b[0;34m*\u001b[0m\u001b[0margs\u001b[0m\u001b[0;34m,\u001b[0m \u001b[0;34m**\u001b[0m\u001b[0mkwds\u001b[0m\u001b[0;34m)\u001b[0m\u001b[0;34m\u001b[0m\u001b[0;34m\u001b[0m\u001b[0m\n\u001b[0m\u001b[1;32m    916\u001b[0m \u001b[0;34m\u001b[0m\u001b[0m\n\u001b[1;32m    917\u001b[0m       \u001b[0mnew_tracing_count\u001b[0m \u001b[0;34m=\u001b[0m \u001b[0mself\u001b[0m\u001b[0;34m.\u001b[0m\u001b[0mexperimental_get_tracing_count\u001b[0m\u001b[0;34m(\u001b[0m\u001b[0;34m)\u001b[0m\u001b[0;34m\u001b[0m\u001b[0;34m\u001b[0m\u001b[0m\n",
            "\u001b[0;32m/usr/local/lib/python3.7/dist-packages/tensorflow/python/eager/def_function.py\u001b[0m in \u001b[0;36m_call\u001b[0;34m(self, *args, **kwds)\u001b[0m\n\u001b[1;32m    945\u001b[0m       \u001b[0;31m# In this case we have created variables on the first call, so we run the\u001b[0m\u001b[0;34m\u001b[0m\u001b[0;34m\u001b[0m\u001b[0;34m\u001b[0m\u001b[0m\n\u001b[1;32m    946\u001b[0m       \u001b[0;31m# defunned version which is guaranteed to never create variables.\u001b[0m\u001b[0;34m\u001b[0m\u001b[0;34m\u001b[0m\u001b[0;34m\u001b[0m\u001b[0m\n\u001b[0;32m--> 947\u001b[0;31m       \u001b[0;32mreturn\u001b[0m \u001b[0mself\u001b[0m\u001b[0;34m.\u001b[0m\u001b[0m_stateless_fn\u001b[0m\u001b[0;34m(\u001b[0m\u001b[0;34m*\u001b[0m\u001b[0margs\u001b[0m\u001b[0;34m,\u001b[0m \u001b[0;34m**\u001b[0m\u001b[0mkwds\u001b[0m\u001b[0;34m)\u001b[0m  \u001b[0;31m# pylint: disable=not-callable\u001b[0m\u001b[0;34m\u001b[0m\u001b[0;34m\u001b[0m\u001b[0m\n\u001b[0m\u001b[1;32m    948\u001b[0m     \u001b[0;32melif\u001b[0m \u001b[0mself\u001b[0m\u001b[0;34m.\u001b[0m\u001b[0m_stateful_fn\u001b[0m \u001b[0;32mis\u001b[0m \u001b[0;32mnot\u001b[0m \u001b[0;32mNone\u001b[0m\u001b[0;34m:\u001b[0m\u001b[0;34m\u001b[0m\u001b[0;34m\u001b[0m\u001b[0m\n\u001b[1;32m    949\u001b[0m       \u001b[0;31m# Release the lock early so that multiple threads can perform the call\u001b[0m\u001b[0;34m\u001b[0m\u001b[0;34m\u001b[0m\u001b[0;34m\u001b[0m\u001b[0m\n",
            "\u001b[0;32m/usr/local/lib/python3.7/dist-packages/tensorflow/python/eager/function.py\u001b[0m in \u001b[0;36m__call__\u001b[0;34m(self, *args, **kwargs)\u001b[0m\n\u001b[1;32m   2955\u001b[0m        filtered_flat_args) = self._maybe_define_function(args, kwargs)\n\u001b[1;32m   2956\u001b[0m     return graph_function._call_flat(\n\u001b[0;32m-> 2957\u001b[0;31m         filtered_flat_args, captured_inputs=graph_function.captured_inputs)  # pylint: disable=protected-access\n\u001b[0m\u001b[1;32m   2958\u001b[0m \u001b[0;34m\u001b[0m\u001b[0m\n\u001b[1;32m   2959\u001b[0m   \u001b[0;34m@\u001b[0m\u001b[0mproperty\u001b[0m\u001b[0;34m\u001b[0m\u001b[0;34m\u001b[0m\u001b[0m\n",
            "\u001b[0;32m/usr/local/lib/python3.7/dist-packages/tensorflow/python/eager/function.py\u001b[0m in \u001b[0;36m_call_flat\u001b[0;34m(self, args, captured_inputs, cancellation_manager)\u001b[0m\n\u001b[1;32m   1852\u001b[0m       \u001b[0;31m# No tape is watching; skip to running the function.\u001b[0m\u001b[0;34m\u001b[0m\u001b[0;34m\u001b[0m\u001b[0;34m\u001b[0m\u001b[0m\n\u001b[1;32m   1853\u001b[0m       return self._build_call_outputs(self._inference_function.call(\n\u001b[0;32m-> 1854\u001b[0;31m           ctx, args, cancellation_manager=cancellation_manager))\n\u001b[0m\u001b[1;32m   1855\u001b[0m     forward_backward = self._select_forward_and_backward_functions(\n\u001b[1;32m   1856\u001b[0m         \u001b[0margs\u001b[0m\u001b[0;34m,\u001b[0m\u001b[0;34m\u001b[0m\u001b[0;34m\u001b[0m\u001b[0m\n",
            "\u001b[0;32m/usr/local/lib/python3.7/dist-packages/tensorflow/python/eager/function.py\u001b[0m in \u001b[0;36mcall\u001b[0;34m(self, ctx, args, cancellation_manager)\u001b[0m\n\u001b[1;32m    502\u001b[0m               \u001b[0minputs\u001b[0m\u001b[0;34m=\u001b[0m\u001b[0margs\u001b[0m\u001b[0;34m,\u001b[0m\u001b[0;34m\u001b[0m\u001b[0;34m\u001b[0m\u001b[0m\n\u001b[1;32m    503\u001b[0m               \u001b[0mattrs\u001b[0m\u001b[0;34m=\u001b[0m\u001b[0mattrs\u001b[0m\u001b[0;34m,\u001b[0m\u001b[0;34m\u001b[0m\u001b[0;34m\u001b[0m\u001b[0m\n\u001b[0;32m--> 504\u001b[0;31m               ctx=ctx)\n\u001b[0m\u001b[1;32m    505\u001b[0m         \u001b[0;32melse\u001b[0m\u001b[0;34m:\u001b[0m\u001b[0;34m\u001b[0m\u001b[0;34m\u001b[0m\u001b[0m\n\u001b[1;32m    506\u001b[0m           outputs = execute.execute_with_cancellation(\n",
            "\u001b[0;32m/usr/local/lib/python3.7/dist-packages/tensorflow/python/eager/execute.py\u001b[0m in \u001b[0;36mquick_execute\u001b[0;34m(op_name, num_outputs, inputs, attrs, ctx, name)\u001b[0m\n\u001b[1;32m     53\u001b[0m     \u001b[0mctx\u001b[0m\u001b[0;34m.\u001b[0m\u001b[0mensure_initialized\u001b[0m\u001b[0;34m(\u001b[0m\u001b[0;34m)\u001b[0m\u001b[0;34m\u001b[0m\u001b[0;34m\u001b[0m\u001b[0m\n\u001b[1;32m     54\u001b[0m     tensors = pywrap_tfe.TFE_Py_Execute(ctx._handle, device_name, op_name,\n\u001b[0;32m---> 55\u001b[0;31m                                         inputs, attrs, num_outputs)\n\u001b[0m\u001b[1;32m     56\u001b[0m   \u001b[0;32mexcept\u001b[0m \u001b[0mcore\u001b[0m\u001b[0;34m.\u001b[0m\u001b[0m_NotOkStatusException\u001b[0m \u001b[0;32mas\u001b[0m \u001b[0me\u001b[0m\u001b[0;34m:\u001b[0m\u001b[0;34m\u001b[0m\u001b[0;34m\u001b[0m\u001b[0m\n\u001b[1;32m     57\u001b[0m     \u001b[0;32mif\u001b[0m \u001b[0mname\u001b[0m \u001b[0;32mis\u001b[0m \u001b[0;32mnot\u001b[0m \u001b[0;32mNone\u001b[0m\u001b[0;34m:\u001b[0m\u001b[0;34m\u001b[0m\u001b[0;34m\u001b[0m\u001b[0m\n",
            "\u001b[0;31mKeyboardInterrupt\u001b[0m: "
          ]
        }
      ],
      "source": [
        "#%%%%%%%%%%%%%%%%%%%%%%%%%%%%%%%%%%%%%%%%%%%%%%%%%%%%%%%%%%%%%%%%%%%%%%%%%%%%%\n",
        "n_units=[64, 128, 256]\n",
        "n_epochs=50\n",
        "batch_size = 100\n",
        "data_shape = (2048, 1)\n",
        "filters = [16, 32, 64, 128, 256]\n",
        "model = Sequential()\n",
        "#model.add(LSTM(n_units, input_shape = data_shape))\n",
        "#model.add(Masking( mask_value=0, batch_input_shape=(batch_size, data_shape[0], data_shape[1])))\n",
        "model.add(Conv1D(filters[0], kernel_size=3, padding='same', strides = 1,\n",
        "                 batch_input_shape=(batch_size, data_shape[0], data_shape[1])))\n",
        "model.add(Activation('relu'))\n",
        "model.add(Dropout(0.5))\n",
        "\n",
        "model.add(Conv1D(filters[1], kernel_size=3, strides = 1, padding='same'))\n",
        "model.add(Activation('relu'))\n",
        "model.add(Dropout(0.5))\n",
        "\n",
        "model.add(Conv1D(filters[2], kernel_size=3, strides = 1, padding='same'))\n",
        "model.add(Activation('relu'))\n",
        "model.add(Dropout(0.5))\n",
        "\n",
        "model.add(Conv1D(filters[3], kernel_size=3, strides = 1, padding='same'))\n",
        "model.add(Activation('relu'))\n",
        "model.add(Dropout(0.5))\n",
        "\n",
        "model.add(Conv1D(filters[4], kernel_size=3, strides = 1, padding='same'))\n",
        "model.add(Activation('relu'))\n",
        "model.add(Dropout(0.5))\n",
        "\n",
        "'''\n",
        "**********************************************************************************\n",
        "**********************************************************************************\n",
        "**********************************************************************************\n",
        "The states/gates of the previous cell is used to calculate the state of the \n",
        "current cell. In keras if stateful=False then the states are reset after \n",
        "each batch. If stateful=True the states from the previous batch for index\n",
        " i will be used as initial state for index i in the next batch. So state \n",
        " information get propagated between batches with stateful=True.\n",
        "**********************************************************************************\n",
        "**********************************************************************************\n",
        "**********************************************************************************\n",
        "'''\n",
        "\n",
        "model.add(Bidirectional(LSTM(n_units[0], stateful=True, return_sequences= True)))\n",
        "model.add(Dropout(0.2))\n",
        "model.add(Activation('relu'))\n",
        "\n",
        "model.add(Bidirectional(LSTM(n_units[1], stateful=True, return_sequences= True)))\n",
        "model.add(Dropout(0.2))\n",
        "model.add(Activation('relu'))\n",
        "\n",
        "model.add(Bidirectional(LSTM(n_units[2], stateful=True, return_sequences= False)))\n",
        "model.add(Dropout(0.2))\n",
        "model.add(Activation('relu'))\n",
        "model.add(Dense(num_classes, activation='softmax'))\n",
        "model.compile(loss='categorical_crossentropy', optimizer='rmsprop', metrics=['accuracy'])\n",
        "history = model.fit(x_train, y_train, validation_data=(x_test,y_test),  batch_size= batch_size, epochs=n_epochs, shuffle=False)"
      ]
    },
    {
      "cell_type": "code",
      "execution_count": null,
      "metadata": {
        "id": "YGjQiyqTW4sQ"
      },
      "outputs": [],
      "source": [
        "\n",
        "\n",
        "# list all data in history\n",
        "print(history.history.keys())\n",
        "# summarize history for accuracy\n",
        "plt.plot(history.history['accuracy'])\n",
        "plt.plot(history.history['val_accuracy'])\n",
        "plt.title('model accuracy')\n",
        "plt.ylabel('accuracy')\n",
        "plt.xlabel('epoch')\n",
        "plt.legend(['train', 'test'], loc='upper left')\n",
        "plt.show()\n",
        "\n"
      ]
    },
    {
      "cell_type": "code",
      "execution_count": null,
      "metadata": {
        "id": "IIfe2wZ23odI"
      },
      "outputs": [],
      "source": [
        "# summarize history for loss\n",
        "plt.plot(history.history['loss'])\n",
        "plt.plot(history.history['val_loss'])\n",
        "plt.title('model loss')\n",
        "plt.ylabel('loss')\n",
        "plt.xlabel('epoch')\n",
        "plt.legend(['train', 'test'], loc='upper left')\n",
        "plt.show()"
      ]
    },
    {
      "cell_type": "code",
      "execution_count": null,
      "metadata": {
        "id": "CLRvz8DH3vVH"
      },
      "outputs": [],
      "source": [
        "import itertools\n",
        "from sklearn.metrics import classification_report,confusion_matrix\n",
        "\n",
        "def plot_confusion_matrix(cm,classes,normalize=False,title='Confusion matrix',cmap=plt.cm.Blues):\n",
        "    plt.imshow(cm,interpolation='nearest',cmap=cmap)\n",
        "    plt.title(title)\n",
        "    plt.colorbar()\n",
        "    tick_marks = np.arange(len(classes))\n",
        "    plt.xticks(tick_marks, classes,rotation=90)\n",
        "    plt.yticks(tick_marks, classes)\n",
        "    if normalize:\n",
        "        cm=cm.astype('float') / cm.sum(axis=1)[:, np.newaxis]\n",
        "        print(\"Normalized confusion matrix\")\n",
        "    else:\n",
        "        print(\"Confusion matrix without normalization\")\n",
        "    print(cm)\n",
        "    thresh=cm.max() / 2.\n",
        "    for i,j in itertools.product(range(cm.shape[0]), range(cm.shape[1])):\n",
        "        plt.text(j,i,cm[i,j],horizontalalignment=\"center\",\n",
        "        color=\"white\" if cm[i,j] > thresh else \"black\")\n",
        "    plt.tight_layout()\n",
        "    plt.ylabel('true label')\n",
        "    plt.xlabel('Predicted label')\n",
        "\n",
        "\n",
        "Y_pred =model.predict(x_test,batch_size=batch_size,verbose=0)\n",
        "print(Y_pred)\n",
        "y_pred = np.argmax(Y_pred, axis=1)\n",
        "#y_pred = model.predict_classes(x_test, batch_size=batch_size, verbose=0)\n",
        "target_names = ['(250)','(500)','(750)', '(1000)','(1500)','(2000)', '(3000)', '(4000)', '(6000)']\n",
        "print(classification_report(np.argmax(y_test, axis=1), y_pred, target_names=target_names))\n",
        "cnf_matrix=(confusion_matrix(np.argmax(y_test,axis=1), y_pred))\n",
        "plot_confusion_matrix(cnf_matrix, classes=target_names, title='confusion matrix')\n"
      ]
    }
  ],
  "metadata": {
    "accelerator": "GPU",
    "colab": {
      "collapsed_sections": [],
      "machine_shape": "hm",
      "name": "Biderctional_LSTM_Sine_rerun_v1.ipynb",
      "provenance": []
    },
    "kernelspec": {
      "display_name": "Python 3 (ipykernel)",
      "language": "python",
      "name": "python3"
    },
    "language_info": {
      "codemirror_mode": {
        "name": "ipython",
        "version": 3
      },
      "file_extension": ".py",
      "mimetype": "text/x-python",
      "name": "python",
      "nbconvert_exporter": "python",
      "pygments_lexer": "ipython3",
      "version": "3.7.11"
    }
  },
  "nbformat": 4,
  "nbformat_minor": 0
}